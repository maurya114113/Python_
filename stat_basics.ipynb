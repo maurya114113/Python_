{
 "cells": [
  {
   "cell_type": "code",
   "execution_count": 5,
   "id": "68ff414d-b8ee-42d0-a1f4-49cbbf0eb0f0",
   "metadata": {},
   "outputs": [
    {
     "name": "stdout",
     "output_type": "stream",
     "text": [
      "-0.8\n"
     ]
    }
   ],
   "source": [
    "import statistics as st\n",
    "print(st.mean([-11,-23,40,-1,-9]))"
   ]
  },
  {
   "cell_type": "code",
   "execution_count": 7,
   "id": "47ae8b37-7731-44bb-aaef-fdae4d6e08cf",
   "metadata": {},
   "outputs": [
    {
     "name": "stdout",
     "output_type": "stream",
     "text": [
      "35.0\n"
     ]
    }
   ],
   "source": [
    "import statistics as st\n",
    "print(st.median([10,20,30,40,50,60]))\n"
   ]
  },
  {
   "cell_type": "code",
   "execution_count": 39,
   "id": "a1a54dbd-c62c-442e-9176-d6bc25d7e5eb",
   "metadata": {},
   "outputs": [
    {
     "name": "stdout",
     "output_type": "stream",
     "text": [
      "41.666666666666664\n",
      "35.0\n",
      "[20, 10, 100]\n"
     ]
    }
   ],
   "source": [
    "import statistics as st\n",
    "print(st.mean([10,20,30,40,50,100]))\n",
    "print(st.median([10,20,30,40,50,100]))\n",
    "print(st.multimode([20,10,20,30,40,50,100,100,10]))\n",
    "\n",
    "\n"
   ]
  },
  {
   "cell_type": "code",
   "execution_count": 43,
   "id": "f6213189-1bb1-4a1d-8e62-caa4e587eceb",
   "metadata": {},
   "outputs": [
    {
     "name": "stdout",
     "output_type": "stream",
     "text": [
      "['blue']\n"
     ]
    }
   ],
   "source": [
    "import statistics as st\n",
    "print(st.multimode(['red','green','blue','red','blue','blue']))"
   ]
  },
  {
   "cell_type": "code",
   "execution_count": 49,
   "id": "f0a1ad70-fd71-4749-95fc-4790b8b1efd5",
   "metadata": {},
   "outputs": [
    {
     "name": "stdout",
     "output_type": "stream",
     "text": [
      "250\n"
     ]
    }
   ],
   "source": [
    "import statistics as st\n",
    "print(st.variance([10,20,30,40,50]))"
   ]
  },
  {
   "cell_type": "code",
   "execution_count": null,
   "id": "89a81cd1-78f3-41dc-b408-135199247d0b",
   "metadata": {},
   "outputs": [],
   "source": []
  }
 ],
 "metadata": {
  "kernelspec": {
   "display_name": "Python 3 (ipykernel)",
   "language": "python",
   "name": "python3"
  },
  "language_info": {
   "codemirror_mode": {
    "name": "ipython",
    "version": 3
   },
   "file_extension": ".py",
   "mimetype": "text/x-python",
   "name": "python",
   "nbconvert_exporter": "python",
   "pygments_lexer": "ipython3",
   "version": "3.12.4"
  }
 },
 "nbformat": 4,
 "nbformat_minor": 5
}
