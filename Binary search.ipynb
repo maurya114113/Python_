{
 "cells": [
  {
   "cell_type": "code",
   "execution_count": 11,
   "id": "7c7d2ea8-7b29-4297-b7a0-e197d1c112d1",
   "metadata": {},
   "outputs": [
    {
     "name": "stdout",
     "output_type": "stream",
     "text": [
      "The number is not present\n",
      "The number is not present\n",
      "The number is not present\n",
      "The number is not present\n",
      "The element is present at pos: 58\n"
     ]
    }
   ],
   "source": [
    "def binary_search(a,x):\n",
    "    first_pos = 0\n",
    "    last_pos = len(a) -1\n",
    "    flag=0   #flag=0 means that the element has not been found yet\n",
    "    while(first_pos<=last_pos and flag==0):\n",
    "        mid = (first_pos + last_pos)//2\n",
    "        if(x==a[mid]):\n",
    "            flag =1\n",
    "            print(\"The element is present at pos: \"+str(mid))\n",
    "            return\n",
    "        else:\n",
    "            if(x<a[mid]):\n",
    "                last_pos = mid-1\n",
    "            else:\n",
    "                first_pos = mid+1\n",
    "        print(\"The number is not present\")\n",
    "a =[]\n",
    "for i in range(1,101):\n",
    "    a.append(i)\n",
    "binary_search(a,59)\n",
    "        "
   ]
  }
 ],
 "metadata": {
  "kernelspec": {
   "display_name": "Python 3 (ipykernel)",
   "language": "python",
   "name": "python3"
  },
  "language_info": {
   "codemirror_mode": {
    "name": "ipython",
    "version": 3
   },
   "file_extension": ".py",
   "mimetype": "text/x-python",
   "name": "python",
   "nbconvert_exporter": "python",
   "pygments_lexer": "ipython3",
   "version": "3.12.4"
  }
 },
 "nbformat": 4,
 "nbformat_minor": 5
}
