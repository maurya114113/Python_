{
 "cells": [
  {
   "cell_type": "code",
   "execution_count": 7,
   "id": "50b8bf5f-ae71-4d7a-b1ac-a885f20bf194",
   "metadata": {},
   "outputs": [
    {
     "name": "stdin",
     "output_type": "stream",
     "text": [
      "Enter your choice 1\n",
      "Do you want to swap? y/n y\n"
     ]
    },
    {
     "name": "stdout",
     "output_type": "stream",
     "text": [
      "Player wins\n",
      "1\n",
      "0\n"
     ]
    }
   ],
   "source": [
    "import random\n",
    "doors=[0]*3\n",
    "goatdoor=[0]*2\n",
    "swap=0  #number of swap wins\n",
    "dont_swap=0 #number of dont swap wins\n",
    "x=random.randint(0,2)   #xth door will comprise of BMW\n",
    "doors[x]=\"BMW\"\n",
    "for i in range(0,3):\n",
    "    if(i==x):\n",
    "        continue\n",
    "    else:\n",
    "        doors[i]=\"Goat\"\n",
    "        goatdoor.append(i)\n",
    "choice=int(input(\"Enter your choice\"))\n",
    "door_open=random.choice(goatdoor) #open the door that comprises of goat\n",
    "while(door_open==choice):\n",
    "    door_open=random.choice(goatdoor)\n",
    "    ch=input(\"Do you want to swap? y/n\")\n",
    "    if(ch=='y'):\n",
    "        if(doors[choice]=='Goat'):\n",
    "            print(\"Player wins\")\n",
    "            swap=swap+1\n",
    "        else:\n",
    "            print(\"Player lost\")\n",
    "    else:\n",
    "        if(doors[choice]=='Goat'):\n",
    "            print(\"Player lost\")\n",
    "        else:\n",
    "            print(\"Player wins\")\n",
    "            dont_swap=dont_swap +1\n",
    "print(swap)\n",
    "print(dont_swap)\n",
    "        \n",
    "    "
   ]
  }
 ],
 "metadata": {
  "kernelspec": {
   "display_name": "Python 3 (ipykernel)",
   "language": "python",
   "name": "python3"
  },
  "language_info": {
   "codemirror_mode": {
    "name": "ipython",
    "version": 3
   },
   "file_extension": ".py",
   "mimetype": "text/x-python",
   "name": "python",
   "nbconvert_exporter": "python",
   "pygments_lexer": "ipython3",
   "version": "3.12.4"
  }
 },
 "nbformat": 4,
 "nbformat_minor": 5
}
