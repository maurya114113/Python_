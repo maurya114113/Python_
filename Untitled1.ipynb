{
  "nbformat": 4,
  "nbformat_minor": 0,
  "metadata": {
    "colab": {
      "provenance": []
    },
    "kernelspec": {
      "name": "python3",
      "display_name": "Python 3"
    },
    "language_info": {
      "name": "python"
    }
  },
  "cells": [
    {
      "cell_type": "code",
      "execution_count": 1,
      "metadata": {
        "colab": {
          "base_uri": "https://localhost:8080/"
        },
        "id": "FZW0LqIUxRdZ",
        "outputId": "d4384c19-3fa5-4c25-c100-b4e63c54394b"
      },
      "outputs": [
        {
          "output_type": "stream",
          "name": "stdout",
          "text": [
            "Hello world\n"
          ]
        }
      ],
      "source": [
        "#data types/ data structure of python\n",
        "print(\"Hello world\")"
      ]
    },
    {
      "cell_type": "markdown",
      "source": [],
      "metadata": {
        "id": "QpWJisd8yj4Y"
      }
    },
    {
      "cell_type": "markdown",
      "source": [
        "Hello today i have started with python\n"
      ],
      "metadata": {
        "id": "mWUOZOQlxytB"
      }
    },
    {
      "cell_type": "code",
      "source": [
        "#basic data types in python\n",
        "#numeric data type(none,integer,float,complex,boolean,string),null is for none\n",
        "x=None\n",
        "print(x)\n",
        "#None is for null"
      ],
      "metadata": {
        "colab": {
          "base_uri": "https://localhost:8080/"
        },
        "id": "m43Q2JbXyvJ9",
        "outputId": "5fe0add1-a6c0-4a15-e2d9-d4868706fc34"
      },
      "execution_count": 2,
      "outputs": [
        {
          "output_type": "stream",
          "name": "stdout",
          "text": [
            "None\n"
          ]
        }
      ]
    },
    {
      "cell_type": "code",
      "source": [
        "type(x)\n"
      ],
      "metadata": {
        "colab": {
          "base_uri": "https://localhost:8080/"
        },
        "id": "FQAHaPuyz3VO",
        "outputId": "9527e0de-e674-4ff5-e659-ec5786663eae"
      },
      "execution_count": 3,
      "outputs": [
        {
          "output_type": "execute_result",
          "data": {
            "text/plain": [
              "NoneType"
            ]
          },
          "metadata": {},
          "execution_count": 3
        }
      ]
    },
    {
      "cell_type": "code",
      "source": [
        "x=10\n",
        "print(x)\n",
        "type(x)"
      ],
      "metadata": {
        "colab": {
          "base_uri": "https://localhost:8080/"
        },
        "id": "RFnU0Vcl0Bs3",
        "outputId": "368c167f-5d04-4fba-cd80-fc4bc481c8ed"
      },
      "execution_count": 4,
      "outputs": [
        {
          "output_type": "stream",
          "name": "stdout",
          "text": [
            "10\n"
          ]
        },
        {
          "output_type": "execute_result",
          "data": {
            "text/plain": [
              "int"
            ]
          },
          "metadata": {},
          "execution_count": 4
        }
      ]
    },
    {
      "cell_type": "code",
      "source": [
        "x=9.6\n",
        "type(x)"
      ],
      "metadata": {
        "colab": {
          "base_uri": "https://localhost:8080/"
        },
        "id": "tFbMk9xR0J99",
        "outputId": "fff3512f-8338-4ee3-9bbf-46e6e6e28d35"
      },
      "execution_count": 5,
      "outputs": [
        {
          "output_type": "execute_result",
          "data": {
            "text/plain": [
              "float"
            ]
          },
          "metadata": {},
          "execution_count": 5
        }
      ]
    },
    {
      "cell_type": "code",
      "source": [
        "#complex function x+jy\n",
        "x=6+9j\n",
        "type(x)"
      ],
      "metadata": {
        "colab": {
          "base_uri": "https://localhost:8080/"
        },
        "id": "X88hl9F90TX_",
        "outputId": "55fd80f0-7a14-4464-fa34-f7a431cc1322"
      },
      "execution_count": 6,
      "outputs": [
        {
          "output_type": "execute_result",
          "data": {
            "text/plain": [
              "complex"
            ]
          },
          "metadata": {},
          "execution_count": 6
        }
      ]
    },
    {
      "cell_type": "code",
      "source": [
        "#conversion\n",
        "a=6\n",
        "b=float(a)\n",
        "b"
      ],
      "metadata": {
        "colab": {
          "base_uri": "https://localhost:8080/"
        },
        "id": "CTaK9Oit0vm9",
        "outputId": "52a4064f-2715-4233-92ea-c828f63e5513"
      },
      "execution_count": 7,
      "outputs": [
        {
          "output_type": "execute_result",
          "data": {
            "text/plain": [
              "6.0"
            ]
          },
          "metadata": {},
          "execution_count": 7
        }
      ]
    },
    {
      "cell_type": "code",
      "source": [
        "#conversion\n",
        "a=9.08\n",
        "b=int(a)\n",
        "b"
      ],
      "metadata": {
        "colab": {
          "base_uri": "https://localhost:8080/"
        },
        "id": "EYbXeP3l1bA8",
        "outputId": "c3625327-3542-45e7-e5df-dbdf481034a3"
      },
      "execution_count": 8,
      "outputs": [
        {
          "output_type": "execute_result",
          "data": {
            "text/plain": [
              "9"
            ]
          },
          "metadata": {},
          "execution_count": 8
        }
      ]
    },
    {
      "cell_type": "code",
      "source": [
        "#an integer is a whole number that can be positive,negative,zero\n",
        "#floating point numbers are called as fractional numbers"
      ],
      "metadata": {
        "id": "hd7rXZOq1pKk"
      },
      "execution_count": 9,
      "outputs": []
    }
  ]
}