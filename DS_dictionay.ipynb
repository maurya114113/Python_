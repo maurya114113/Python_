{
 "cells": [
  {
   "cell_type": "code",
   "execution_count": 49,
   "id": "a190f379-646f-401c-8304-10c213724e08",
   "metadata": {},
   "outputs": [
    {
     "ename": "SyntaxError",
     "evalue": "invalid syntax (700896595.py, line 9)",
     "output_type": "error",
     "traceback": [
      "\u001b[1;36m  Cell \u001b[1;32mIn[49], line 9\u001b[1;36m\u001b[0m\n\u001b[1;33m    conv_factor.\u001b[0m\n\u001b[1;37m                ^\u001b[0m\n\u001b[1;31mSyntaxError\u001b[0m\u001b[1;31m:\u001b[0m invalid syntax\n"
     ]
    }
   ],
   "source": [
    "conv_factor = {}\n",
    "conv_factor['dollar']=60\n",
    "conv_factor['euro']=70\n",
    "#print(conv_factor)\n",
    "#conv_factor['euro']\n",
    "list(conv_factor.keys())\n",
    "list(conv_factor.values())\n",
    "list(conv_factor.items())\n",
    "\n",
    "\n"
   ]
  }
 ],
 "metadata": {
  "kernelspec": {
   "display_name": "Python 3 (ipykernel)",
   "language": "python",
   "name": "python3"
  },
  "language_info": {
   "codemirror_mode": {
    "name": "ipython",
    "version": 3
   },
   "file_extension": ".py",
   "mimetype": "text/x-python",
   "name": "python",
   "nbconvert_exporter": "python",
   "pygments_lexer": "ipython3",
   "version": "3.12.4"
  }
 },
 "nbformat": 4,
 "nbformat_minor": 5
}
