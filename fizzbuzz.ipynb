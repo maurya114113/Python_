{
 "cells": [
  {
   "cell_type": "code",
   "execution_count": 46,
   "id": "a891ef14-1479-4efa-9e4e-d53c68666c97",
   "metadata": {},
   "outputs": [
    {
     "name": "stdout",
     "output_type": "stream",
     "text": [
      "1\n",
      "2\n",
      "3\n",
      "4\n",
      "5\n",
      "6\n",
      "7\n",
      "8\n",
      "9\n",
      "10\n",
      "11\n",
      "12\n",
      "13\n",
      "14\n",
      "15\n",
      "16\n",
      "17\n",
      "18\n",
      "19\n",
      "20\n",
      "21\n",
      "22\n",
      "23\n",
      "24\n",
      "25\n",
      "26\n",
      "27\n",
      "28\n",
      "29\n",
      "30\n",
      "31\n",
      "32\n",
      "33\n",
      "34\n",
      "35\n",
      "36\n",
      "37\n",
      "38\n",
      "39\n",
      "40\n",
      "41\n",
      "42\n",
      "43\n",
      "44\n"
     ]
    }
   ],
   "source": [
    "for i in range(1,45):\n",
    "    print(i)\n",
    "    "
   ]
  },
  {
   "cell_type": "code",
   "execution_count": 47,
   "id": "1c72b5e4-9d97-4e7f-b0c9-2914e133bbd6",
   "metadata": {},
   "outputs": [
    {
     "name": "stdout",
     "output_type": "stream",
     "text": [
      "1\n",
      "2\n",
      "3 = fizz\n",
      "4\n",
      "5= buzz\n",
      "6 = fizz\n",
      "7\n",
      "8\n",
      "9 = fizz\n",
      "10= buzz\n",
      "11\n",
      "12 = fizz\n",
      "13\n",
      "14\n",
      "15 = fizz\n",
      "16\n",
      "17\n",
      "18 = fizz\n",
      "19\n",
      "20= buzz\n",
      "21 = fizz\n",
      "22\n",
      "23\n",
      "24 = fizz\n",
      "25= buzz\n",
      "26\n",
      "27 = fizz\n",
      "28\n",
      "29\n",
      "30 = fizz\n",
      "31\n",
      "32\n",
      "33 = fizz\n",
      "34\n",
      "35= buzz\n",
      "36 = fizz\n",
      "37\n",
      "38\n",
      "39 = fizz\n",
      "40= buzz\n",
      "41\n",
      "42 = fizz\n",
      "43\n",
      "44\n"
     ]
    }
   ],
   "source": [
    "for i in range(1,45):\n",
    "    if(i%3==0):\n",
    "         print(str(i)+ \" = fizz\")\n",
    "    else:\n",
    "        if(i%5==0):\n",
    "            print(str(i)+ \"= buzz\")\n",
    "        else:\n",
    "            if(i%3==0 and i%5==0):\n",
    "                 print(str(i)+ \" = fizzbuzz\")\n",
    "            else:\n",
    "                print(str(i))"
   ]
  },
  {
   "cell_type": "code",
   "execution_count": null,
   "id": "636a3bf3-7978-439c-adf7-4e8fc16d07fb",
   "metadata": {},
   "outputs": [],
   "source": []
  },
  {
   "cell_type": "code",
   "execution_count": null,
   "id": "6799e890-8475-43ac-b059-25e97bececf5",
   "metadata": {},
   "outputs": [],
   "source": []
  }
 ],
 "metadata": {
  "kernelspec": {
   "display_name": "Python 3 (ipykernel)",
   "language": "python",
   "name": "python3"
  },
  "language_info": {
   "codemirror_mode": {
    "name": "ipython",
    "version": 3
   },
   "file_extension": ".py",
   "mimetype": "text/x-python",
   "name": "python",
   "nbconvert_exporter": "python",
   "pygments_lexer": "ipython3",
   "version": "3.12.4"
  }
 },
 "nbformat": 4,
 "nbformat_minor": 5
}
