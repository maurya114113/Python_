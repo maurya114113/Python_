{
 "cells": [
  {
   "cell_type": "code",
   "execution_count": null,
   "id": "6f15b1e5-1b83-4ae7-bc2a-8a557574bd4c",
   "metadata": {},
   "outputs": [],
   "source": [
    "#Comparison operator\n",
    "#comparison operators are used to compare two values\n",
    "#always give only boolean output"
   ]
  },
  {
   "cell_type": "code",
   "execution_count": 3,
   "id": "d87314ee-da53-49f1-8fe3-3dad06b4bdad",
   "metadata": {},
   "outputs": [
    {
     "data": {
      "text/plain": [
       "True"
      ]
     },
     "execution_count": 3,
     "metadata": {},
     "output_type": "execute_result"
    }
   ],
   "source": [
    "#Boolean\n",
    "x=5\n",
    "y=8\n",
    "x!=y"
   ]
  },
  {
   "cell_type": "code",
   "execution_count": 15,
   "id": "a57e81f0-d6f0-4ca3-9089-6f23bdb4d8a7",
   "metadata": {},
   "outputs": [
    {
     "name": "stdout",
     "output_type": "stream",
     "text": [
      "False True False True True False\n"
     ]
    }
   ],
   "source": [
    "r=20\n",
    "i=50\n",
    "print(r==i,r!=i,r>i,r<i,r<=i,r>=i)"
   ]
  },
  {
   "cell_type": "code",
   "execution_count": null,
   "id": "3a8c6e2c-b1e0-4ff3-a0f0-c1ee6b0516ca",
   "metadata": {},
   "outputs": [],
   "source": []
  }
 ],
 "metadata": {
  "kernelspec": {
   "display_name": "Python 3 (ipykernel)",
   "language": "python",
   "name": "python3"
  },
  "language_info": {
   "codemirror_mode": {
    "name": "ipython",
    "version": 3
   },
   "file_extension": ".py",
   "mimetype": "text/x-python",
   "name": "python",
   "nbconvert_exporter": "python",
   "pygments_lexer": "ipython3",
   "version": "3.12.4"
  }
 },
 "nbformat": 4,
 "nbformat_minor": 5
}
