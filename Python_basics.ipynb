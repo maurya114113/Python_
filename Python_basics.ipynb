{
 "cells": [
  {
   "cell_type": "code",
   "execution_count": 1,
   "id": "f0687c88-b782-4702-a491-e4f0b2be8772",
   "metadata": {},
   "outputs": [],
   "source": [
    "#Python is a popular programming lanaguage it is created by Guido Van Rossum,1991\n",
    "#Webdevelopment\n",
    "#Software Development\n",
    "#Mathematics\n",
    "#System scripting language - no need of compiler\n",
    "#Python runs on Interpreter system meaning the code can be executed as soon as\n",
    "#the program is written\n",
    "#Object Oriented Programming\n",
    "#Python arithmetic operators\n",
    "#Addition,substraction, Multiplication and Division"
   ]
  },
  {
   "cell_type": "code",
   "execution_count": 3,
   "id": "b389a4da-68ad-46da-9697-baa12df03f7d",
   "metadata": {},
   "outputs": [
    {
     "data": {
      "text/plain": [
       "8"
      ]
     },
     "execution_count": 3,
     "metadata": {},
     "output_type": "execute_result"
    }
   ],
   "source": [
    "5+3\n"
   ]
  },
  {
   "cell_type": "code",
   "execution_count": 5,
   "id": "b2e27304-cee4-46be-aaf8-90c7df3ee2a0",
   "metadata": {},
   "outputs": [
    {
     "data": {
      "text/plain": [
       "2"
      ]
     },
     "execution_count": 5,
     "metadata": {},
     "output_type": "execute_result"
    }
   ],
   "source": [
    "5-3"
   ]
  },
  {
   "cell_type": "code",
   "execution_count": 7,
   "id": "f0ebfef3-96d8-447f-936a-ddb209c8c6dd",
   "metadata": {},
   "outputs": [
    {
     "data": {
      "text/plain": [
       "1.6666666666666667"
      ]
     },
     "execution_count": 7,
     "metadata": {},
     "output_type": "execute_result"
    }
   ],
   "source": [
    "5/3"
   ]
  },
  {
   "cell_type": "code",
   "execution_count": 9,
   "id": "33d2e864-c72c-47c4-af78-035f06587786",
   "metadata": {},
   "outputs": [
    {
     "data": {
      "text/plain": [
       "20"
      ]
     },
     "execution_count": 9,
     "metadata": {},
     "output_type": "execute_result"
    }
   ],
   "source": [
    "5*4"
   ]
  },
  {
   "cell_type": "code",
   "execution_count": 29,
   "id": "8dc6d60a-9fc9-4c45-bb61-d1717aa6c7fc",
   "metadata": {},
   "outputs": [
    {
     "data": {
      "text/plain": [
       "8"
      ]
     },
     "execution_count": 29,
     "metadata": {},
     "output_type": "execute_result"
    }
   ],
   "source": [
    "#Create two variables, x and y,5 and 3,add them \n",
    "x=5\n",
    "y=3\n",
    "x+y\n"
   ]
  },
  {
   "cell_type": "code",
   "execution_count": 31,
   "id": "9c89f989-69ee-4ba8-bcb1-32a3a29fec70",
   "metadata": {},
   "outputs": [
    {
     "name": "stdout",
     "output_type": "stream",
     "text": [
      "15\n"
     ]
    }
   ],
   "source": [
    "x=5\n",
    "y=3\n",
    "print(x*y)"
   ]
  },
  {
   "cell_type": "code",
   "execution_count": 37,
   "id": "17c0391c-dc34-48e0-ab37-a775629d4c0a",
   "metadata": {},
   "outputs": [
    {
     "data": {
      "text/plain": [
       "3"
      ]
     },
     "execution_count": 37,
     "metadata": {},
     "output_type": "execute_result"
    }
   ],
   "source": [
    "x=5\n",
    "y=8-x\n",
    "y"
   ]
  },
  {
   "cell_type": "code",
   "execution_count": 39,
   "id": "1114dbed-432c-463f-97b8-b8279e24643e",
   "metadata": {},
   "outputs": [
    {
     "name": "stdout",
     "output_type": "stream",
     "text": [
      "4.0\n"
     ]
    }
   ],
   "source": [
    "#Division\n",
    "x=12\n",
    "y=3\n",
    "print(x/y)"
   ]
  },
  {
   "cell_type": "code",
   "execution_count": 41,
   "id": "1b421174-17e8-4ae7-b90a-573be6695072",
   "metadata": {},
   "outputs": [
    {
     "name": "stdout",
     "output_type": "stream",
     "text": [
      "1\n"
     ]
    }
   ],
   "source": [
    "#Modulous\n",
    "x=5\n",
    "y=2\n",
    "print(x%y)"
   ]
  },
  {
   "cell_type": "code",
   "execution_count": 45,
   "id": "25f898e4-17cb-4c27-ab38-b5af3666bde9",
   "metadata": {},
   "outputs": [
    {
     "name": "stdout",
     "output_type": "stream",
     "text": [
      "10.0   810   0\n"
     ]
    }
   ],
   "source": [
    "#Division , Multiplication, modulous\n",
    "a=90\n",
    "b=9\n",
    "print(a/b,\" \",a*b,\" \",a%b)\n"
   ]
  },
  {
   "cell_type": "code",
   "execution_count": 47,
   "id": "e3caf3cf-9612-450d-af4a-966477c2c200",
   "metadata": {},
   "outputs": [
    {
     "name": "stdout",
     "output_type": "stream",
     "text": [
      "32\n"
     ]
    }
   ],
   "source": [
    "#Exponential 2 to the power of 5\n",
    "x=2\n",
    "y=5\n",
    "print(x**y)"
   ]
  },
  {
   "cell_type": "code",
   "execution_count": 51,
   "id": "da19efd9-94bb-48df-9c64-12d0192c1cbc",
   "metadata": {},
   "outputs": [
    {
     "name": "stdout",
     "output_type": "stream",
     "text": [
      "3\n",
      "3.75\n"
     ]
    }
   ],
   "source": [
    "#floor division in Python\n",
    "x=15\n",
    "y=4\n",
    "print(x//y)\n",
    "print(x/y)"
   ]
  },
  {
   "cell_type": "code",
   "execution_count": 53,
   "id": "aff470ba-239b-4c05-9258-c3f9d5eae86f",
   "metadata": {},
   "outputs": [
    {
     "name": "stdout",
     "output_type": "stream",
     "text": [
      "8\n"
     ]
    }
   ],
   "source": [
    "#Exponential , floor division, 18 and 8\n",
    "# Assignment operators are used to assign values to the variable\n",
    "x=5\n",
    "x+=3\n",
    "print(x)\n",
    "#x=x+x ,x=5+3"
   ]
  },
  {
   "cell_type": "code",
   "execution_count": 59,
   "id": "239006f3-734e-47a7-ae15-a9780a55ba81",
   "metadata": {},
   "outputs": [
    {
     "name": "stdout",
     "output_type": "stream",
     "text": [
      "13\n"
     ]
    }
   ],
   "source": [
    "x=5\n",
    "y=5\n",
    "x+=3\n",
    "y+=x\n",
    "print(y)"
   ]
  },
  {
   "cell_type": "code",
   "execution_count": 61,
   "id": "5a8f883e-ff64-4218-8d90-e3951068f358",
   "metadata": {},
   "outputs": [
    {
     "data": {
      "text/plain": [
       "14"
      ]
     },
     "execution_count": 61,
     "metadata": {},
     "output_type": "execute_result"
    }
   ],
   "source": [
    "x,y=9,5\n",
    "z=x+y\n",
    "z\n",
    "#assignment operators use the same variables"
   ]
  },
  {
   "cell_type": "code",
   "execution_count": 63,
   "id": "2e84cea3-2b29-4d4d-b915-58ba8ad42a78",
   "metadata": {},
   "outputs": [
    {
     "data": {
      "text/plain": [
       "2"
      ]
     },
     "execution_count": 63,
     "metadata": {},
     "output_type": "execute_result"
    }
   ],
   "source": [
    "x=5\n",
    "x-=3\n",
    "x"
   ]
  },
  {
   "cell_type": "code",
   "execution_count": 65,
   "id": "1db1e1a6-f206-4857-9179-801398278598",
   "metadata": {},
   "outputs": [
    {
     "data": {
      "text/plain": [
       "25"
      ]
     },
     "execution_count": 65,
     "metadata": {},
     "output_type": "execute_result"
    }
   ],
   "source": [
    "x=5\n",
    "x*=x\n",
    "x"
   ]
  },
  {
   "cell_type": "code",
   "execution_count": 67,
   "id": "93fdbd01-b829-4137-8003-13a178a85d64",
   "metadata": {},
   "outputs": [
    {
     "data": {
      "text/plain": [
       "1.3333333333333333"
      ]
     },
     "execution_count": 67,
     "metadata": {},
     "output_type": "execute_result"
    }
   ],
   "source": [
    "x=4\n",
    "y=3\n",
    "x/=y\n",
    "x"
   ]
  },
  {
   "cell_type": "code",
   "execution_count": 69,
   "id": "3c7fb496-4fff-4710-95ef-b5f34cf305e1",
   "metadata": {},
   "outputs": [
    {
     "data": {
      "text/plain": [
       "2"
      ]
     },
     "execution_count": 69,
     "metadata": {},
     "output_type": "execute_result"
    }
   ],
   "source": [
    "x=8\n",
    "y=3\n",
    "x//=y\n",
    "x"
   ]
  }
 ],
 "metadata": {
  "kernelspec": {
   "display_name": "Python 3 (ipykernel)",
   "language": "python",
   "name": "python3"
  },
  "language_info": {
   "codemirror_mode": {
    "name": "ipython",
    "version": 3
   },
   "file_extension": ".py",
   "mimetype": "text/x-python",
   "name": "python",
   "nbconvert_exporter": "python",
   "pygments_lexer": "ipython3",
   "version": "3.12.4"
  }
 },
 "nbformat": 4,
 "nbformat_minor": 5
}
