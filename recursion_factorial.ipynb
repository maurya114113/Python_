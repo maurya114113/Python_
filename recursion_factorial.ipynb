{
 "cells": [
  {
   "cell_type": "code",
   "execution_count": 3,
   "id": "ff786361-994e-4265-88f0-7f6fb9a19f4b",
   "metadata": {},
   "outputs": [
    {
     "name": "stdin",
     "output_type": "stream",
     "text": [
      "Enter a positive number: 4\n"
     ]
    },
    {
     "name": "stdout",
     "output_type": "stream",
     "text": [
      "Factorial of  4 is 24\n"
     ]
    }
   ],
   "source": [
    "def factorial(n):\n",
    "    product=1\n",
    "    for i in range(1,n+1):\n",
    "        product=product*i\n",
    "    return product\n",
    "n=int(input('Enter a positive number:'))\n",
    "if n<0:\n",
    "    print('Factorial is not defined on negative number')\n",
    "else:\n",
    "    f=factorial(n)\n",
    "    print('Factorial of ' ,n, 'is' , f)\n",
    "    \n"
   ]
  }
 ],
 "metadata": {
  "kernelspec": {
   "display_name": "Python 3 (ipykernel)",
   "language": "python",
   "name": "python3"
  },
  "language_info": {
   "codemirror_mode": {
    "name": "ipython",
    "version": 3
   },
   "file_extension": ".py",
   "mimetype": "text/x-python",
   "name": "python",
   "nbconvert_exporter": "python",
   "pygments_lexer": "ipython3",
   "version": "3.12.4"
  }
 },
 "nbformat": 4,
 "nbformat_minor": 5
}
