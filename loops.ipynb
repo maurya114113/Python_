{
 "cells": [
  {
   "cell_type": "code",
   "execution_count": 7,
   "id": "5ef1462a-53ef-4a8b-bc98-4dc36f980300",
   "metadata": {},
   "outputs": [
    {
     "name": "stdout",
     "output_type": "stream",
     "text": [
      "hi i am aman maurya\n"
     ]
    },
    {
     "name": "stdin",
     "output_type": "stream",
     "text": [
      "what is your age? 3\n"
     ]
    },
    {
     "name": "stdout",
     "output_type": "stream",
     "text": [
      "3\n",
      "15\n"
     ]
    }
   ],
   "source": [
    "print(\"hi i am aman maurya\")\n",
    "c=input(\"what is your age?\")\n",
    "print(c)\n",
    "d=int(c)*5\n",
    "print(d)"
   ]
  },
  {
   "cell_type": "code",
   "execution_count": 23,
   "id": "210fea01-0ded-48d5-9a01-9eb4cf3bcd22",
   "metadata": {},
   "outputs": [
    {
     "name": "stdin",
     "output_type": "stream",
     "text": [
      "enter the number 0\n"
     ]
    },
    {
     "name": "stdout",
     "output_type": "stream",
     "text": [
      "number is positive\n",
      "number is negative\n",
      "number is zero\n"
     ]
    }
   ],
   "source": [
    "#statement\n",
    "c=input(\"enter the number\")\n",
    "c=int(c)\n",
    "if(c>=0):\n",
    "    print(\"number is positive\")\n",
    "if(c<=0):\n",
    "    print(\"number is negative\")\n",
    "if(c==0):\n",
    "    print(\"number is zero\")"
   ]
  },
  {
   "cell_type": "code",
   "execution_count": 29,
   "id": "c648684d-ffee-45f2-b2e0-42c7fec5d7f9",
   "metadata": {},
   "outputs": [
    {
     "name": "stdout",
     "output_type": "stream",
     "text": [
      "0\n",
      "why i am not topper?\n",
      "5\n",
      "why i am not topper?\n",
      "10\n",
      "why i am not topper?\n",
      "15\n",
      "why i am not topper?\n",
      "20\n",
      "why i am not topper?\n"
     ]
    }
   ],
   "source": [
    "#LOOP\n",
    "for i in range(5):\n",
    "    print(i*5)\n",
    "    print(\"why i am not topper?\")"
   ]
  }
 ],
 "metadata": {
  "kernelspec": {
   "display_name": "Python 3 (ipykernel)",
   "language": "python",
   "name": "python3"
  },
  "language_info": {
   "codemirror_mode": {
    "name": "ipython",
    "version": 3
   },
   "file_extension": ".py",
   "mimetype": "text/x-python",
   "name": "python",
   "nbconvert_exporter": "python",
   "pygments_lexer": "ipython3",
   "version": "3.12.4"
  }
 },
 "nbformat": 4,
 "nbformat_minor": 5
}
